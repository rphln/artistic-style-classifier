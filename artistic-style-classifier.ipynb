{
 "cells": [
  {
   "cell_type": "code",
   "execution_count": null,
   "id": "ssWvA1rimepu",
   "metadata": {
    "executionInfo": {
     "elapsed": 266,
     "status": "ok",
     "timestamp": 1635091032480,
     "user": {
      "displayName": "Raphael Nepomuceno",
      "photoUrl": "https://lh3.googleusercontent.com/a-/AOh14GhQRFSZUPS0SqJgCu8gmASbTlY6dzZsVhC5ucg8Lw=s64",
      "userId": "04510237599294724427"
     },
     "user_tz": 180
    },
    "id": "ssWvA1rimepu"
   },
   "outputs": [],
   "source": [
    "import warnings\n",
    "\n",
    "warnings.filterwarnings(\"ignore\")"
   ]
  },
  {
   "cell_type": "code",
   "execution_count": null,
   "id": "C4CvLlrGaw2X",
   "metadata": {
    "colab": {
     "base_uri": "https://localhost:8080/"
    },
    "executionInfo": {
     "elapsed": 28277,
     "status": "ok",
     "timestamp": 1635091060754,
     "user": {
      "displayName": "Raphael Nepomuceno",
      "photoUrl": "https://lh3.googleusercontent.com/a-/AOh14GhQRFSZUPS0SqJgCu8gmASbTlY6dzZsVhC5ucg8Lw=s64",
      "userId": "04510237599294724427"
     },
     "user_tz": 180
    },
    "id": "C4CvLlrGaw2X",
    "outputId": "ba00b6c6-b4f0-4048-825b-0b9e94b8c6af"
   },
   "outputs": [],
   "source": [
    "from google.colab import drive\n",
    "\n",
    "drive.mount(\"/content/drive\")"
   ]
  },
  {
   "cell_type": "code",
   "execution_count": null,
   "id": "3mVdTzWcaw2b",
   "metadata": {
    "colab": {
     "base_uri": "https://localhost:8080/"
    },
    "executionInfo": {
     "elapsed": 668540,
     "status": "ok",
     "timestamp": 1635091729290,
     "user": {
      "displayName": "Raphael Nepomuceno",
      "photoUrl": "https://lh3.googleusercontent.com/a-/AOh14GhQRFSZUPS0SqJgCu8gmASbTlY6dzZsVhC5ucg8Lw=s64",
      "userId": "04510237599294724427"
     },
     "user_tz": 180
    },
    "id": "3mVdTzWcaw2b",
    "outputId": "96daf477-209d-4410-e8a6-5923a19c15d8"
   },
   "outputs": [],
   "source": [
    "!rsync --archive --ignore-existing --human-readable --info progress2 \"/content/drive/MyDrive/BAM/\" \"/tmp/BAM/\""
   ]
  },
  {
   "cell_type": "code",
   "execution_count": null,
   "id": "kmXI9UHyaw2c",
   "metadata": {
    "executionInfo": {
     "elapsed": 14662,
     "status": "ok",
     "timestamp": 1635091743946,
     "user": {
      "displayName": "Raphael Nepomuceno",
      "photoUrl": "https://lh3.googleusercontent.com/a-/AOh14GhQRFSZUPS0SqJgCu8gmASbTlY6dzZsVhC5ucg8Lw=s64",
      "userId": "04510237599294724427"
     },
     "user_tz": 180
    },
    "id": "kmXI9UHyaw2c"
   },
   "outputs": [],
   "source": [
    "import pickle\n",
    "import sqlite3\n",
    "import tarfile\n",
    "from datetime import datetime\n",
    "from io import BytesIO\n",
    "from os import cpu_count\n",
    "from pathlib import Path\n",
    "from typing import List, Tuple\n",
    "\n",
    "import pandas as pd\n",
    "import torch\n",
    "import torch.optim\n",
    "from pandas import DataFrame\n",
    "from PIL import Image\n",
    "from sklearn.metrics import accuracy_score\n",
    "from sklearn.model_selection import train_test_split\n",
    "from torch import Tensor\n",
    "from torch.nn import CrossEntropyLoss, Linear\n",
    "from torch.optim import Adam\n",
    "from torch.utils.data import DataLoader, Dataset, Subset\n",
    "from torchvision.transforms import (\n",
    "    Compose,\n",
    "    Normalize,\n",
    "    RandomHorizontalFlip,\n",
    "    RandomResizedCrop,\n",
    "    RandomVerticalFlip,\n",
    "    ToTensor,\n",
    ")\n",
    "from tqdm import tqdm, trange"
   ]
  },
  {
   "cell_type": "code",
   "execution_count": null,
   "id": "Ajx3FO_qtO55",
   "metadata": {
    "colab": {
     "base_uri": "https://localhost:8080/"
    },
    "executionInfo": {
     "elapsed": 17,
     "status": "ok",
     "timestamp": 1635091743947,
     "user": {
      "displayName": "Raphael Nepomuceno",
      "photoUrl": "https://lh3.googleusercontent.com/a-/AOh14GhQRFSZUPS0SqJgCu8gmASbTlY6dzZsVhC5ucg8Lw=s64",
      "userId": "04510237599294724427"
     },
     "user_tz": 180
    },
    "id": "Ajx3FO_qtO55",
    "outputId": "a8f1c2a9-6b20-4e90-adcb-a7b6809eccc8"
   },
   "outputs": [],
   "source": [
    "torch.manual_seed(0)"
   ]
  },
  {
   "cell_type": "code",
   "execution_count": null,
   "id": "005e8286",
   "metadata": {
    "colab": {
     "base_uri": "https://localhost:8080/"
    },
    "executionInfo": {
     "elapsed": 14,
     "status": "ok",
     "timestamp": 1635091743948,
     "user": {
      "displayName": "Raphael Nepomuceno",
      "photoUrl": "https://lh3.googleusercontent.com/a-/AOh14GhQRFSZUPS0SqJgCu8gmASbTlY6dzZsVhC5ucg8Lw=s64",
      "userId": "04510237599294724427"
     },
     "user_tz": 180
    },
    "id": "005e8286",
    "outputId": "84e35b73-e4be-4f56-b8ae-0569b9253769"
   },
   "outputs": [],
   "source": [
    "!nvidia-smi"
   ]
  },
  {
   "cell_type": "code",
   "execution_count": null,
   "id": "91e806a8",
   "metadata": {
    "executionInfo": {
     "elapsed": 9,
     "status": "ok",
     "timestamp": 1635091743949,
     "user": {
      "displayName": "Raphael Nepomuceno",
      "photoUrl": "https://lh3.googleusercontent.com/a-/AOh14GhQRFSZUPS0SqJgCu8gmASbTlY6dzZsVhC5ucg8Lw=s64",
      "userId": "04510237599294724427"
     },
     "user_tz": 180
    },
    "id": "91e806a8"
   },
   "outputs": [],
   "source": [
    "BATCH_SIZE = 64"
   ]
  },
  {
   "cell_type": "code",
   "execution_count": null,
   "id": "2835a113",
   "metadata": {
    "executionInfo": {
     "elapsed": 9,
     "status": "ok",
     "timestamp": 1635091743949,
     "user": {
      "displayName": "Raphael Nepomuceno",
      "photoUrl": "https://lh3.googleusercontent.com/a-/AOh14GhQRFSZUPS0SqJgCu8gmASbTlY6dzZsVhC5ucg8Lw=s64",
      "userId": "04510237599294724427"
     },
     "user_tz": 180
    },
    "id": "2835a113"
   },
   "outputs": [],
   "source": [
    "def make_index(path: Path) -> DataFrame:\n",
    "    with tarfile.open(path) as tar:\n",
    "        indices = {}\n",
    "\n",
    "        for file in tqdm(tar, desc=\"Loading images\"):\n",
    "            name = Path(file.name).stem\n",
    "\n",
    "            # The database indices are numbers; we need this conversion in order\n",
    "            # to perform a join later.\n",
    "            # TODO: Maybe `continue` on failure?\n",
    "            index = int(name)\n",
    "\n",
    "            indices[index] = {\n",
    "                \"offset\": file.offset_data,\n",
    "                \"length\": file.size,\n",
    "            }\n",
    "\n",
    "    return DataFrame.from_dict(indices, orient=\"index\")\n",
    "\n",
    "\n",
    "def get_labels(path: Path) -> DataFrame:\n",
    "    QUERY = \"\"\"\n",
    "    SELECT\n",
    "        `mid`, `media_3d_graphics`, `media_comic`, `media_graphite`, `media_oilpaint`, `media_pen_ink`, `media_vectorart`, `media_watercolor`\n",
    "    FROM\n",
    "        `automatic_labels`\n",
    "    \"\"\"\n",
    "\n",
    "    with sqlite3.connect(path) as conn:\n",
    "        labels = pd.read_sql(QUERY, conn, index_col=[\"mid\"])\n",
    "\n",
    "    return labels.replace({\"negative\": 0.0, \"positive\": 1.0, \"unsure\": None}).dropna()\n",
    "\n",
    "\n",
    "def get_image_by_offset(path: Path, offset: int, length: int) -> Image:\n",
    "    with open(path, \"rb\") as file:\n",
    "        file.seek(offset)\n",
    "        return Image.open(BytesIO(file.read(length))).convert(\"RGB\")\n",
    "\n",
    "\n",
    "class BehanceDataset(Dataset[Tuple[Tensor, Tensor]]):\n",
    "    data: DataFrame\n",
    "\n",
    "    labels: List[str] = [\n",
    "        \"media_3d_graphics\",\n",
    "        \"media_comic\",\n",
    "        \"media_graphite\",\n",
    "        \"media_oilpaint\",\n",
    "        \"media_pen_ink\",\n",
    "        \"media_vectorart\",\n",
    "        \"media_watercolor\",\n",
    "    ]\n",
    "\n",
    "    def __init__(self, images_path: Path, metadata_path: Path):\n",
    "        super().__init__()\n",
    "\n",
    "        labels = get_labels(metadata_path)\n",
    "        indices = make_index(images_path)\n",
    "\n",
    "        self.images = images_path\n",
    "        self.metadata = labels.join(indices, how=\"inner\")\n",
    "\n",
    "        self.transform = Compose(\n",
    "            [\n",
    "                RandomResizedCrop(size=(224, 224)),\n",
    "                RandomHorizontalFlip(),\n",
    "                RandomVerticalFlip(),\n",
    "                ToTensor(),\n",
    "                Normalize(\n",
    "                    mean=[0.7137, 0.6628, 0.6519],\n",
    "                    std=[0.2970, 0.3017, 0.2979],\n",
    "                ),\n",
    "            ]\n",
    "        )\n",
    "\n",
    "    def __getitem__(self, index: int) -> Tuple[Tensor, Tensor]:\n",
    "        length, offset = self.metadata.iloc[index].loc[[\"length\", \"offset\"]].astype(int)\n",
    "\n",
    "        image = get_image_by_offset(self.images, offset, length)\n",
    "        label = self.metadata.iloc[index].loc[self.labels]\n",
    "\n",
    "        return self.transform(image), torch.argmax(Tensor(label))\n",
    "\n",
    "    def __len__(self):\n",
    "        return len(self.metadata)"
   ]
  },
  {
   "cell_type": "code",
   "execution_count": null,
   "id": "07b88c94",
   "metadata": {
    "colab": {
     "base_uri": "https://localhost:8080/"
    },
    "executionInfo": {
     "elapsed": 158117,
     "status": "ok",
     "timestamp": 1635091902058,
     "user": {
      "displayName": "Raphael Nepomuceno",
      "photoUrl": "https://lh3.googleusercontent.com/a-/AOh14GhQRFSZUPS0SqJgCu8gmASbTlY6dzZsVhC5ucg8Lw=s64",
      "userId": "04510237599294724427"
     },
     "user_tz": 180
    },
    "id": "07b88c94",
    "outputId": "94577a7f-b551-43a5-cccd-c6cce0cb0e5b"
   },
   "outputs": [],
   "source": [
    "dataset = BehanceDataset(\n",
    "    Path(\"/tmp/BAM/20171214-behance-styles-crowd-only-images-R4OHZduT.tar\"),\n",
    "    Path(\"/tmp/BAM/20171214-behance-styles-crowd-only-R4OHZduT.sqlite\"),\n",
    ")"
   ]
  },
  {
   "cell_type": "code",
   "execution_count": null,
   "id": "898a6948",
   "metadata": {
    "executionInfo": {
     "elapsed": 494,
     "status": "ok",
     "timestamp": 1635091902542,
     "user": {
      "displayName": "Raphael Nepomuceno",
      "photoUrl": "https://lh3.googleusercontent.com/a-/AOh14GhQRFSZUPS0SqJgCu8gmASbTlY6dzZsVhC5ucg8Lw=s64",
      "userId": "04510237599294724427"
     },
     "user_tz": 180
    },
    "id": "898a6948"
   },
   "outputs": [],
   "source": [
    "valid = (dataset.metadata[dataset.labels] != 0).transpose().any()\n",
    "dataset.metadata = dataset.metadata[valid]"
   ]
  },
  {
   "cell_type": "code",
   "execution_count": null,
   "id": "ed8ff4fa",
   "metadata": {
    "executionInfo": {
     "elapsed": 8,
     "status": "ok",
     "timestamp": 1635091902543,
     "user": {
      "displayName": "Raphael Nepomuceno",
      "photoUrl": "https://lh3.googleusercontent.com/a-/AOh14GhQRFSZUPS0SqJgCu8gmASbTlY6dzZsVhC5ucg8Lw=s64",
      "userId": "04510237599294724427"
     },
     "user_tz": 180
    },
    "id": "ed8ff4fa"
   },
   "outputs": [],
   "source": [
    "indices = list(range(len(dataset)))\n",
    "\n",
    "try:\n",
    "    with open(\"/content/drive/MyDrive/BAM/indices.pkl\", \"rb\") as file:\n",
    "        train_with, test_with, validate_with = pickle.load(file)\n",
    "except:\n",
    "    train_with, test_with = train_test_split(\n",
    "        indices, test_size=0.1, shuffle=True, random_state=0\n",
    "    )\n",
    "    train_with, validate_with = train_test_split(\n",
    "        train_with, test_size=0.1, shuffle=True, random_state=0\n",
    "    )\n",
    "\n",
    "    with open(\"/content/drive/MyDrive/BAM/indices.pkg\", \"wb\") as file:\n",
    "        pickle.dump((train_with, test_with, validate_with), file)\n",
    "\n",
    "training_data_loader = DataLoader(\n",
    "    Subset(dataset, train_with),\n",
    "    BATCH_SIZE,\n",
    "    drop_last=True,\n",
    "    pin_memory=True,\n",
    "    num_workers=cpu_count(),\n",
    ")\n",
    "validation_data_loader = DataLoader(\n",
    "    Subset(dataset, validate_with),\n",
    "    BATCH_SIZE,\n",
    "    drop_last=True,\n",
    "    pin_memory=True,\n",
    "    num_workers=cpu_count(),\n",
    ")\n",
    "testing_data_loader = DataLoader(\n",
    "    Subset(dataset, test_with),\n",
    "    BATCH_SIZE,\n",
    "    drop_last=True,\n",
    "    pin_memory=True,\n",
    "    num_workers=cpu_count(),\n",
    ")"
   ]
  },
  {
   "cell_type": "code",
   "execution_count": null,
   "id": "d77fbb10",
   "metadata": {
    "colab": {
     "base_uri": "https://localhost:8080/"
    },
    "executionInfo": {
     "elapsed": 7,
     "status": "ok",
     "timestamp": 1635091902543,
     "user": {
      "displayName": "Raphael Nepomuceno",
      "photoUrl": "https://lh3.googleusercontent.com/a-/AOh14GhQRFSZUPS0SqJgCu8gmASbTlY6dzZsVhC5ucg8Lw=s64",
      "userId": "04510237599294724427"
     },
     "user_tz": 180
    },
    "id": "d77fbb10",
    "outputId": "2af98633-e312-46ff-e684-882a06723db3"
   },
   "outputs": [],
   "source": [
    "print(\"Training set size:\", len(train_with))\n",
    "print(\"Validation set size:\", len(validate_with))\n",
    "print(\"Test set size:\", len(test_with))"
   ]
  },
  {
   "cell_type": "code",
   "execution_count": null,
   "id": "41d0b3c4",
   "metadata": {
    "executionInfo": {
     "elapsed": 6,
     "status": "ok",
     "timestamp": 1635091902544,
     "user": {
      "displayName": "Raphael Nepomuceno",
      "photoUrl": "https://lh3.googleusercontent.com/a-/AOh14GhQRFSZUPS0SqJgCu8gmASbTlY6dzZsVhC5ucg8Lw=s64",
      "userId": "04510237599294724427"
     },
     "user_tz": 180
    },
    "id": "41d0b3c4"
   },
   "outputs": [],
   "source": [
    "def train(\n",
    "    model,\n",
    "    training_loader,\n",
    "    validation_loader,\n",
    "    epochs,\n",
    "    learning_rate,\n",
    "    device,\n",
    "    patience,\n",
    "    decrease_lr_interval,\n",
    "    save_to: Path,\n",
    "):\n",
    "    save_to.mkdir(exist_ok=True, parents=True)\n",
    "\n",
    "    model = model.to(device)\n",
    "\n",
    "    optimizer = Adam(model.parameters(), lr=learning_rate)\n",
    "    criterion = CrossEntropyLoss()\n",
    "\n",
    "    with trange(epochs) as progress:\n",
    "        validation_accuracy = 0.0\n",
    "        last_saved = 0\n",
    "\n",
    "        for epoch in progress:\n",
    "            model.train()\n",
    "\n",
    "            if epoch % decrease_lr_interval == 0:\n",
    "                for param_group in optimizer.param_groups:\n",
    "                    param_group[\"lr\"] = learning_rate * (\n",
    "                        0.5 ** (epoch // decrease_lr_interval)\n",
    "                    )\n",
    "\n",
    "            training_accuracy = 0.0\n",
    "\n",
    "            for batch, (x, y) in enumerate(training_loader, start=1):\n",
    "                optimizer.zero_grad()\n",
    "\n",
    "                x = x.to(device)\n",
    "                y = y.to(device)\n",
    "\n",
    "                z = model(x)\n",
    "\n",
    "                loss = criterion(z, y)\n",
    "                loss.backward()\n",
    "\n",
    "                optimizer.step()\n",
    "\n",
    "                z = torch.argmax(z, dim=1)\n",
    "\n",
    "                accuracy = accuracy_score(y.cpu(), z.cpu())\n",
    "                training_accuracy += (accuracy - training_accuracy) / batch\n",
    "\n",
    "                progress.set_postfix(\n",
    "                    batch=batch,\n",
    "                    training_accuracy=training_accuracy,\n",
    "                    validation_accuracy=validation_accuracy,\n",
    "                    last_saved=last_saved,\n",
    "                )\n",
    "\n",
    "            accuracy = validate(model, validation_loader, device)\n",
    "            if accuracy >= validation_accuracy:\n",
    "                validation_accuracy = accuracy\n",
    "                last_saved = epoch\n",
    "\n",
    "                state = {\n",
    "                    \"epoch\": epoch,\n",
    "                    \"model_state_dict\": model.state_dict(),\n",
    "                    \"optimizer_state_dict\": optimizer.state_dict(),\n",
    "                    \"validation_accuracy\": validation_accuracy,\n",
    "                }\n",
    "\n",
    "                torch.save(state, save_to / f\"{epoch}.pth\")\n",
    "\n",
    "            progress.set_postfix(\n",
    "                batch=batch,\n",
    "                training_accuracy=training_accuracy,\n",
    "                validation_accuracy=validation_accuracy,\n",
    "                last_saved=last_saved,\n",
    "            )\n",
    "\n",
    "            if epoch - last_saved >= patience:\n",
    "                break"
   ]
  },
  {
   "cell_type": "code",
   "execution_count": null,
   "id": "JD1mzscuTcPe",
   "metadata": {
    "executionInfo": {
     "elapsed": 5,
     "status": "ok",
     "timestamp": 1635091902544,
     "user": {
      "displayName": "Raphael Nepomuceno",
      "photoUrl": "https://lh3.googleusercontent.com/a-/AOh14GhQRFSZUPS0SqJgCu8gmASbTlY6dzZsVhC5ucg8Lw=s64",
      "userId": "04510237599294724427"
     },
     "user_tz": 180
    },
    "id": "JD1mzscuTcPe"
   },
   "outputs": [],
   "source": [
    "def validate(model, loader, device):\n",
    "    model.eval()\n",
    "\n",
    "    epoch_mean_accuracy = 0\n",
    "    for batch, (x, y) in enumerate(loader, start=1):\n",
    "        x = x.to(device)\n",
    "        y = y.to(device)\n",
    "\n",
    "        z = torch.argmax(model(x), dim=1)\n",
    "\n",
    "        accuracy = accuracy_score(y.cpu(), z.cpu())\n",
    "        epoch_mean_accuracy += (accuracy - epoch_mean_accuracy) / batch\n",
    "\n",
    "    return epoch_mean_accuracy"
   ]
  },
  {
   "cell_type": "code",
   "execution_count": null,
   "id": "PKuSnB6jkDVv",
   "metadata": {
    "executionInfo": {
     "elapsed": 6,
     "status": "ok",
     "timestamp": 1635091902545,
     "user": {
      "displayName": "Raphael Nepomuceno",
      "photoUrl": "https://lh3.googleusercontent.com/a-/AOh14GhQRFSZUPS0SqJgCu8gmASbTlY6dzZsVhC5ucg8Lw=s64",
      "userId": "04510237599294724427"
     },
     "user_tz": 180
    },
    "id": "PKuSnB6jkDVv"
   },
   "outputs": [],
   "source": [
    "from sklearn.metrics import confusion_matrix\n",
    "\n",
    "\n",
    "def test(model, loader, device):\n",
    "    model.eval()\n",
    "\n",
    "    y_pred = []\n",
    "    y_true = []\n",
    "\n",
    "    epoch_mean_accuracy = 0\n",
    "\n",
    "    for batch, (x, y) in enumerate(loader, start=1):\n",
    "        x = x.to(device)\n",
    "        y = y.to(device)\n",
    "\n",
    "        z = torch.argmax(model(x), dim=1)\n",
    "\n",
    "        accuracy = accuracy_score(y.cpu(), z.cpu())\n",
    "        epoch_mean_accuracy += (accuracy - epoch_mean_accuracy) / batch\n",
    "\n",
    "        y_pred.append(z)\n",
    "        y_true.append(y)\n",
    "\n",
    "    y_pred = torch.cat(y_pred).cpu()\n",
    "    y_true = torch.cat(y_true).cpu()\n",
    "\n",
    "    print(confusion_matrix(y_true, y_pred))\n",
    "\n",
    "    return epoch_mean_accuracy"
   ]
  },
  {
   "cell_type": "code",
   "execution_count": null,
   "id": "de1586dd",
   "metadata": {
    "colab": {
     "base_uri": "https://localhost:8080/",
     "height": 83,
     "referenced_widgets": [
      "80f29bec02034cc59b8caf96ecbb2dbf",
      "b0336c230ff4481a96fb1dab4908220e",
      "b39292065c3d4be6b54c2bb3e48ec506",
      "ac331facbd2048efb08d288a2935ab4e",
      "1d1cecb0fe424649a755371577e67371",
      "92627140b01d47fca236b8e833a71c69",
      "e3f2448c9d414a2ba12f72b614b2ceca",
      "719a9890efc243b8a477778054c8473d",
      "212e77078a9942b6af6445903f80822f",
      "4708f5c8cdd54c598116f8af46dafa70",
      "25406e4a80ce4538b9a418e24b7786e3"
     ]
    },
    "executionInfo": {
     "elapsed": 12974,
     "status": "ok",
     "timestamp": 1635091915514,
     "user": {
      "displayName": "Raphael Nepomuceno",
      "photoUrl": "https://lh3.googleusercontent.com/a-/AOh14GhQRFSZUPS0SqJgCu8gmASbTlY6dzZsVhC5ucg8Lw=s64",
      "userId": "04510237599294724427"
     },
     "user_tz": 180
    },
    "id": "de1586dd",
    "outputId": "5bb30992-8ad4-4128-ea92-1137fd6a2c79"
   },
   "outputs": [],
   "source": [
    "model = torch.hub.load(\"RF5/danbooru-pretrained\", \"resnet50\")\n",
    "\n",
    "for param in model.parameters():\n",
    "    param.requires_grad = False\n",
    "\n",
    "# Head\n",
    "model[-1][-1] = Linear(512, 7)\n",
    "\n",
    "for param in model[-1].parameters():\n",
    "    param.requires_grad = True"
   ]
  },
  {
   "cell_type": "code",
   "execution_count": null,
   "id": "2edf323e",
   "metadata": {
    "colab": {
     "base_uri": "https://localhost:8080/"
    },
    "executionInfo": {
     "elapsed": 19180071,
     "status": "ok",
     "timestamp": 1635111095583,
     "user": {
      "displayName": "Raphael Nepomuceno",
      "photoUrl": "https://lh3.googleusercontent.com/a-/AOh14GhQRFSZUPS0SqJgCu8gmASbTlY6dzZsVhC5ucg8Lw=s64",
      "userId": "04510237599294724427"
     },
     "user_tz": 180
    },
    "id": "2edf323e",
    "outputId": "dc0b5ebf-c7f2-45eb-ec79-0305b2e371df"
   },
   "outputs": [],
   "source": [
    "device = torch.device(\"cuda:0\")\n",
    "model = model.to(device)\n",
    "\n",
    "epochs = 100\n",
    "lr = 1e-3\n",
    "\n",
    "net = train(\n",
    "    model,\n",
    "    training_data_loader,\n",
    "    validation_data_loader,\n",
    "    epochs,\n",
    "    lr,\n",
    "    device,\n",
    "    patience=100,\n",
    "    decrease_lr_interval=20,\n",
    "    save_to=Path(\"/content/drive/MyDrive/Behance/Models\")\n",
    "    / \"ResNet50\"\n",
    "    / str(datetime.now()),\n",
    ")"
   ]
  },
  {
   "cell_type": "code",
   "execution_count": null,
   "id": "ASGoJPN9lKIQ",
   "metadata": {
    "colab": {
     "base_uri": "https://localhost:8080/"
    },
    "executionInfo": {
     "elapsed": 24249,
     "status": "ok",
     "timestamp": 1635111119829,
     "user": {
      "displayName": "Raphael Nepomuceno",
      "photoUrl": "https://lh3.googleusercontent.com/a-/AOh14GhQRFSZUPS0SqJgCu8gmASbTlY6dzZsVhC5ucg8Lw=s64",
      "userId": "04510237599294724427"
     },
     "user_tz": 180
    },
    "id": "ASGoJPN9lKIQ",
    "outputId": "da2b7697-1fd5-44ef-bd99-3560776090c5"
   },
   "outputs": [],
   "source": [
    "test(model, testing_data_loader, device)"
   ]
  }
 ],
 "metadata": {
  "accelerator": "GPU",
  "colab": {
   "collapsed_sections": [],
   "name": "Behance (ResNet50)",
   "provenance": [
    {
     "file_id": "1FhllhPZL208Mw2CKS7NpGFOIR8OW_w-O",
     "timestamp": 1635083370950
    },
    {
     "file_id": "1gSy-N5gulQcY_CO0Ly94tCLlFgo5Hqq1",
     "timestamp": 1635066642070
    },
    {
     "file_id": "1mso8xBdEJDK4PCGNlTEVTmMmMugLoqlX",
     "timestamp": 1634641789371
    },
    {
     "file_id": "1v8I9gNlQpGTT18o9miYVG2Oncm2i5Q_L",
     "timestamp": 1634592175078
    }
   ]
  },
  "interpreter": {
   "hash": "631744a3d59189a7d4a94d6e344207297ed3ce0e4c8634612a75a3fe4af9782f"
  },
  "jupytext": {
   "cell_metadata_filter": "-all",
   "main_language": "python",
   "notebook_metadata_filter": "-all"
  },
  "kernelspec": {
   "display_name": "Python 3.9.5 64-bit ('.venv': poetry)",
   "name": "python3"
  },
  "language_info": {
   "codemirror_mode": {
    "name": "ipython",
    "version": 3
   },
   "file_extension": ".py",
   "mimetype": "text/x-python",
   "name": "python",
   "nbconvert_exporter": "python",
   "pygments_lexer": "ipython3",
   "version": "3.9.5"
  }
 },
 "nbformat": 4,
 "nbformat_minor": 5
}
